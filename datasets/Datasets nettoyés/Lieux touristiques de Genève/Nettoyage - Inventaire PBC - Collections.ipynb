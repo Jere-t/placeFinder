{
 "cells": [
  {
   "cell_type": "markdown",
   "metadata": {},
   "source": [
    "Importer les librairies pour gérer des tableaux"
   ]
  },
  {
   "cell_type": "code",
   "execution_count": 1,
   "metadata": {},
   "outputs": [],
   "source": [
    "import pandas as pd\n",
    "import numpy as np"
   ]
  },
  {
   "cell_type": "markdown",
   "metadata": {},
   "source": [
    "Récupérer le contenu du fichier SCI_PBC_COLLECTIONS --> j'ai transformé de CSV vers Excel avant, parce que j'avais un bug que je n'ai pas su comment le résoudre..."
   ]
  },
  {
   "cell_type": "code",
   "execution_count": 2,
   "metadata": {},
   "outputs": [],
   "source": [
    "data = pd.read_excel('SCI_PBC_COLLECTIONS.xlsx')"
   ]
  },
  {
   "cell_type": "markdown",
   "metadata": {},
   "source": [
    "Afficher les 5 premières lignes du dataset"
   ]
  },
  {
   "cell_type": "code",
   "execution_count": 3,
   "metadata": {
    "scrolled": true
   },
   "outputs": [
    {
     "data": {
      "text/html": [
       "<div>\n",
       "<style scoped>\n",
       "    .dataframe tbody tr th:only-of-type {\n",
       "        vertical-align: middle;\n",
       "    }\n",
       "\n",
       "    .dataframe tbody tr th {\n",
       "        vertical-align: top;\n",
       "    }\n",
       "\n",
       "    .dataframe thead th {\n",
       "        text-align: right;\n",
       "    }\n",
       "</style>\n",
       "<table border=\"1\" class=\"dataframe\">\n",
       "  <thead>\n",
       "    <tr style=\"text-align: right;\">\n",
       "      <th></th>\n",
       "      <th>OBJET</th>\n",
       "      <th>MUSEE_NUMERO</th>\n",
       "      <th>ARCHIVE_NUMERO</th>\n",
       "      <th>BIBLIOTHEQUE_NUMERO</th>\n",
       "      <th>REMARQUE</th>\n",
       "      <th>ADRESSE</th>\n",
       "      <th>COMMUNE</th>\n",
       "      <th>OPC</th>\n",
       "      <th>IMPORTANCE</th>\n",
       "      <th>E</th>\n",
       "      <th>N</th>\n",
       "    </tr>\n",
       "  </thead>\n",
       "  <tbody>\n",
       "    <tr>\n",
       "      <th>0</th>\n",
       "      <td>Fond cantonal d'art contemporain</td>\n",
       "      <td>8758.0</td>\n",
       "      <td>NaN</td>\n",
       "      <td>NaN</td>\n",
       "      <td>NaN</td>\n",
       "      <td>Sentier des Saules 3</td>\n",
       "      <td>Genève</td>\n",
       "      <td>VG3</td>\n",
       "      <td>A</td>\n",
       "      <td>2499061.61</td>\n",
       "      <td>1117621.26</td>\n",
       "    </tr>\n",
       "    <tr>\n",
       "      <th>1</th>\n",
       "      <td>Fondation Braillard architectes</td>\n",
       "      <td>NaN</td>\n",
       "      <td>8944.0</td>\n",
       "      <td>NaN</td>\n",
       "      <td>NaN</td>\n",
       "      <td>Rue Saint-Léger 16</td>\n",
       "      <td>Genève</td>\n",
       "      <td>VG3</td>\n",
       "      <td>B</td>\n",
       "      <td>2500354.91</td>\n",
       "      <td>1117184.19</td>\n",
       "    </tr>\n",
       "    <tr>\n",
       "      <th>2</th>\n",
       "      <td>Musée d'art et d'histoire</td>\n",
       "      <td>8692.0</td>\n",
       "      <td>NaN</td>\n",
       "      <td>NaN</td>\n",
       "      <td>NaN</td>\n",
       "      <td>Rue Charles-Galland 2</td>\n",
       "      <td>Genève</td>\n",
       "      <td>VG3</td>\n",
       "      <td>A</td>\n",
       "      <td>2500652.89</td>\n",
       "      <td>1117244.18</td>\n",
       "    </tr>\n",
       "    <tr>\n",
       "      <th>3</th>\n",
       "      <td>Bibliothèques et archives de la SDN et de l'ONU</td>\n",
       "      <td>NaN</td>\n",
       "      <td>8836.0</td>\n",
       "      <td>8836.0</td>\n",
       "      <td>NaN</td>\n",
       "      <td>Avenue de la Paix 14</td>\n",
       "      <td>Genève</td>\n",
       "      <td>VG2</td>\n",
       "      <td>A</td>\n",
       "      <td>2499855.16</td>\n",
       "      <td>1120283.56</td>\n",
       "    </tr>\n",
       "    <tr>\n",
       "      <th>4</th>\n",
       "      <td>Musée international de la Réforme</td>\n",
       "      <td>8703.0</td>\n",
       "      <td>NaN</td>\n",
       "      <td>NaN</td>\n",
       "      <td>NaN</td>\n",
       "      <td>Rue du Cloître 4</td>\n",
       "      <td>Genève</td>\n",
       "      <td>VG3</td>\n",
       "      <td>A</td>\n",
       "      <td>2500418.89</td>\n",
       "      <td>1117496.68</td>\n",
       "    </tr>\n",
       "  </tbody>\n",
       "</table>\n",
       "</div>"
      ],
      "text/plain": [
       "                                             OBJET  MUSEE_NUMERO  \\\n",
       "0                 Fond cantonal d'art contemporain        8758.0   \n",
       "1                  Fondation Braillard architectes           NaN   \n",
       "2                        Musée d'art et d'histoire        8692.0   \n",
       "3  Bibliothèques et archives de la SDN et de l'ONU           NaN   \n",
       "4                Musée international de la Réforme        8703.0   \n",
       "\n",
       "   ARCHIVE_NUMERO  BIBLIOTHEQUE_NUMERO REMARQUE                ADRESSE  \\\n",
       "0             NaN                  NaN      NaN   Sentier des Saules 3   \n",
       "1          8944.0                  NaN      NaN     Rue Saint-Léger 16   \n",
       "2             NaN                  NaN      NaN  Rue Charles-Galland 2   \n",
       "3          8836.0               8836.0      NaN   Avenue de la Paix 14   \n",
       "4             NaN                  NaN      NaN       Rue du Cloître 4   \n",
       "\n",
       "   COMMUNE  OPC IMPORTANCE           E           N  \n",
       "0  Genève   VG3          A  2499061.61  1117621.26  \n",
       "1   Genève  VG3          B  2500354.91  1117184.19  \n",
       "2   Genève  VG3          A  2500652.89  1117244.18  \n",
       "3   Genève  VG2          A  2499855.16  1120283.56  \n",
       "4   Genève  VG3          A  2500418.89  1117496.68  "
      ]
     },
     "execution_count": 3,
     "metadata": {},
     "output_type": "execute_result"
    }
   ],
   "source": [
    "data.head()"
   ]
  },
  {
   "cell_type": "markdown",
   "metadata": {},
   "source": [
    "Supprimer les colonnes REMARQUE, OPC, IMPORTANCE, E, N"
   ]
  },
  {
   "cell_type": "code",
   "execution_count": 4,
   "metadata": {},
   "outputs": [],
   "source": [
    "data = data.drop(['REMARQUE','OPC','IMPORTANCE','E','N'],axis=1)"
   ]
  },
  {
   "cell_type": "markdown",
   "metadata": {},
   "source": [
    "Afficher les 5 premières lignes du dataset"
   ]
  },
  {
   "cell_type": "code",
   "execution_count": 5,
   "metadata": {},
   "outputs": [
    {
     "data": {
      "text/html": [
       "<div>\n",
       "<style scoped>\n",
       "    .dataframe tbody tr th:only-of-type {\n",
       "        vertical-align: middle;\n",
       "    }\n",
       "\n",
       "    .dataframe tbody tr th {\n",
       "        vertical-align: top;\n",
       "    }\n",
       "\n",
       "    .dataframe thead th {\n",
       "        text-align: right;\n",
       "    }\n",
       "</style>\n",
       "<table border=\"1\" class=\"dataframe\">\n",
       "  <thead>\n",
       "    <tr style=\"text-align: right;\">\n",
       "      <th></th>\n",
       "      <th>OBJET</th>\n",
       "      <th>MUSEE_NUMERO</th>\n",
       "      <th>ARCHIVE_NUMERO</th>\n",
       "      <th>BIBLIOTHEQUE_NUMERO</th>\n",
       "      <th>ADRESSE</th>\n",
       "      <th>COMMUNE</th>\n",
       "    </tr>\n",
       "  </thead>\n",
       "  <tbody>\n",
       "    <tr>\n",
       "      <th>0</th>\n",
       "      <td>Fond cantonal d'art contemporain</td>\n",
       "      <td>8758.0</td>\n",
       "      <td>NaN</td>\n",
       "      <td>NaN</td>\n",
       "      <td>Sentier des Saules 3</td>\n",
       "      <td>Genève</td>\n",
       "    </tr>\n",
       "    <tr>\n",
       "      <th>1</th>\n",
       "      <td>Fondation Braillard architectes</td>\n",
       "      <td>NaN</td>\n",
       "      <td>8944.0</td>\n",
       "      <td>NaN</td>\n",
       "      <td>Rue Saint-Léger 16</td>\n",
       "      <td>Genève</td>\n",
       "    </tr>\n",
       "    <tr>\n",
       "      <th>2</th>\n",
       "      <td>Musée d'art et d'histoire</td>\n",
       "      <td>8692.0</td>\n",
       "      <td>NaN</td>\n",
       "      <td>NaN</td>\n",
       "      <td>Rue Charles-Galland 2</td>\n",
       "      <td>Genève</td>\n",
       "    </tr>\n",
       "    <tr>\n",
       "      <th>3</th>\n",
       "      <td>Bibliothèques et archives de la SDN et de l'ONU</td>\n",
       "      <td>NaN</td>\n",
       "      <td>8836.0</td>\n",
       "      <td>8836.0</td>\n",
       "      <td>Avenue de la Paix 14</td>\n",
       "      <td>Genève</td>\n",
       "    </tr>\n",
       "    <tr>\n",
       "      <th>4</th>\n",
       "      <td>Musée international de la Réforme</td>\n",
       "      <td>8703.0</td>\n",
       "      <td>NaN</td>\n",
       "      <td>NaN</td>\n",
       "      <td>Rue du Cloître 4</td>\n",
       "      <td>Genève</td>\n",
       "    </tr>\n",
       "  </tbody>\n",
       "</table>\n",
       "</div>"
      ],
      "text/plain": [
       "                                             OBJET  MUSEE_NUMERO  \\\n",
       "0                 Fond cantonal d'art contemporain        8758.0   \n",
       "1                  Fondation Braillard architectes           NaN   \n",
       "2                        Musée d'art et d'histoire        8692.0   \n",
       "3  Bibliothèques et archives de la SDN et de l'ONU           NaN   \n",
       "4                Musée international de la Réforme        8703.0   \n",
       "\n",
       "   ARCHIVE_NUMERO  BIBLIOTHEQUE_NUMERO                ADRESSE  COMMUNE  \n",
       "0             NaN                  NaN   Sentier des Saules 3  Genève   \n",
       "1          8944.0                  NaN     Rue Saint-Léger 16   Genève  \n",
       "2             NaN                  NaN  Rue Charles-Galland 2   Genève  \n",
       "3          8836.0               8836.0   Avenue de la Paix 14   Genève  \n",
       "4             NaN                  NaN       Rue du Cloître 4   Genève  "
      ]
     },
     "execution_count": 5,
     "metadata": {},
     "output_type": "execute_result"
    }
   ],
   "source": [
    "data.head()"
   ]
  },
  {
   "cell_type": "markdown",
   "metadata": {},
   "source": [
    "Afficher le nombre de lignes du dataset"
   ]
  },
  {
   "cell_type": "code",
   "execution_count": 6,
   "metadata": {},
   "outputs": [
    {
     "data": {
      "text/plain": [
       "55"
      ]
     },
     "execution_count": 6,
     "metadata": {},
     "output_type": "execute_result"
    }
   ],
   "source": [
    "len(data)"
   ]
  },
  {
   "cell_type": "markdown",
   "metadata": {},
   "source": [
    "J'ajoute une colonne type (de lieu touristique) et je mets s'il s'agit d'un musée, d'une bibliothèque ou d'une archive."
   ]
  },
  {
   "cell_type": "code",
   "execution_count": 7,
   "metadata": {
    "scrolled": false
   },
   "outputs": [
    {
     "name": "stderr",
     "output_type": "stream",
     "text": [
      "C:\\Users\\pidro\\anaconda3\\lib\\site-packages\\pandas\\core\\indexing.py:670: SettingWithCopyWarning: \n",
      "A value is trying to be set on a copy of a slice from a DataFrame\n",
      "\n",
      "See the caveats in the documentation: https://pandas.pydata.org/pandas-docs/stable/user_guide/indexing.html#returning-a-view-versus-a-copy\n",
      "  iloc._setitem_with_indexer(indexer, value)\n"
     ]
    }
   ],
   "source": [
    "data['type'] = None\n",
    "for i in range(len(data)):\n",
    "    if data['MUSEE_NUMERO'].iloc[i] > -1:\n",
    "        data['type'].iloc[i] = 'MUSEE'\n",
    "    elif data['BIBLIOTHEQUE_NUMERO'].iloc[i] > -1:\n",
    "        data['type'].iloc[i] = 'BIBLIOTHEQUE'\n",
    "    elif data['ARCHIVE_NUMERO'].iloc[i] > -1:\n",
    "        data['type'].iloc[i] = 'ARCHIVE'\n",
    "\n",
    "data = data.drop(['MUSEE_NUMERO','BIBLIOTHEQUE_NUMERO','ARCHIVE_NUMERO'], axis=1)"
   ]
  },
  {
   "cell_type": "code",
   "execution_count": 8,
   "metadata": {
    "scrolled": true
   },
   "outputs": [
    {
     "data": {
      "text/html": [
       "<div>\n",
       "<style scoped>\n",
       "    .dataframe tbody tr th:only-of-type {\n",
       "        vertical-align: middle;\n",
       "    }\n",
       "\n",
       "    .dataframe tbody tr th {\n",
       "        vertical-align: top;\n",
       "    }\n",
       "\n",
       "    .dataframe thead th {\n",
       "        text-align: right;\n",
       "    }\n",
       "</style>\n",
       "<table border=\"1\" class=\"dataframe\">\n",
       "  <thead>\n",
       "    <tr style=\"text-align: right;\">\n",
       "      <th></th>\n",
       "      <th>OBJET</th>\n",
       "      <th>ADRESSE</th>\n",
       "      <th>COMMUNE</th>\n",
       "      <th>type</th>\n",
       "    </tr>\n",
       "  </thead>\n",
       "  <tbody>\n",
       "    <tr>\n",
       "      <th>0</th>\n",
       "      <td>Fond cantonal d'art contemporain</td>\n",
       "      <td>Sentier des Saules 3</td>\n",
       "      <td>Genève</td>\n",
       "      <td>MUSEE</td>\n",
       "    </tr>\n",
       "    <tr>\n",
       "      <th>1</th>\n",
       "      <td>Fondation Braillard architectes</td>\n",
       "      <td>Rue Saint-Léger 16</td>\n",
       "      <td>Genève</td>\n",
       "      <td>ARCHIVE</td>\n",
       "    </tr>\n",
       "    <tr>\n",
       "      <th>2</th>\n",
       "      <td>Musée d'art et d'histoire</td>\n",
       "      <td>Rue Charles-Galland 2</td>\n",
       "      <td>Genève</td>\n",
       "      <td>MUSEE</td>\n",
       "    </tr>\n",
       "    <tr>\n",
       "      <th>3</th>\n",
       "      <td>Bibliothèques et archives de la SDN et de l'ONU</td>\n",
       "      <td>Avenue de la Paix 14</td>\n",
       "      <td>Genève</td>\n",
       "      <td>BIBLIOTHEQUE</td>\n",
       "    </tr>\n",
       "    <tr>\n",
       "      <th>4</th>\n",
       "      <td>Musée international de la Réforme</td>\n",
       "      <td>Rue du Cloître 4</td>\n",
       "      <td>Genève</td>\n",
       "      <td>MUSEE</td>\n",
       "    </tr>\n",
       "  </tbody>\n",
       "</table>\n",
       "</div>"
      ],
      "text/plain": [
       "                                             OBJET                ADRESSE  \\\n",
       "0                 Fond cantonal d'art contemporain   Sentier des Saules 3   \n",
       "1                  Fondation Braillard architectes     Rue Saint-Léger 16   \n",
       "2                        Musée d'art et d'histoire  Rue Charles-Galland 2   \n",
       "3  Bibliothèques et archives de la SDN et de l'ONU   Avenue de la Paix 14   \n",
       "4                Musée international de la Réforme       Rue du Cloître 4   \n",
       "\n",
       "   COMMUNE          type  \n",
       "0  Genève          MUSEE  \n",
       "1   Genève       ARCHIVE  \n",
       "2   Genève         MUSEE  \n",
       "3   Genève  BIBLIOTHEQUE  \n",
       "4   Genève         MUSEE  "
      ]
     },
     "execution_count": 8,
     "metadata": {},
     "output_type": "execute_result"
    }
   ],
   "source": [
    "data.head()"
   ]
  },
  {
   "cell_type": "markdown",
   "metadata": {},
   "source": [
    "Afficher les duplications par colonne"
   ]
  },
  {
   "cell_type": "code",
   "execution_count": 9,
   "metadata": {},
   "outputs": [
    {
     "name": "stdout",
     "output_type": "stream",
     "text": [
      "OBJET  :  1\n",
      "ADRESSE  :  4\n",
      "COMMUNE  :  49\n",
      "type  :  52\n"
     ]
    }
   ],
   "source": [
    "for col in data.columns:\n",
    "    print(col,' : ',data[col].duplicated().sum())"
   ]
  },
  {
   "cell_type": "markdown",
   "metadata": {},
   "source": [
    "Afficher les lignes contenant le doublon dans la ligne OBJET"
   ]
  },
  {
   "cell_type": "code",
   "execution_count": 10,
   "metadata": {},
   "outputs": [
    {
     "data": {
      "text/html": [
       "<div>\n",
       "<style scoped>\n",
       "    .dataframe tbody tr th:only-of-type {\n",
       "        vertical-align: middle;\n",
       "    }\n",
       "\n",
       "    .dataframe tbody tr th {\n",
       "        vertical-align: top;\n",
       "    }\n",
       "\n",
       "    .dataframe thead th {\n",
       "        text-align: right;\n",
       "    }\n",
       "</style>\n",
       "<table border=\"1\" class=\"dataframe\">\n",
       "  <thead>\n",
       "    <tr style=\"text-align: right;\">\n",
       "      <th></th>\n",
       "      <th>OBJET</th>\n",
       "      <th>ADRESSE</th>\n",
       "      <th>COMMUNE</th>\n",
       "      <th>type</th>\n",
       "    </tr>\n",
       "  </thead>\n",
       "  <tbody>\n",
       "    <tr>\n",
       "      <th>49</th>\n",
       "      <td>Archives d'Etat de Genève</td>\n",
       "      <td>Rue de l'Hôtel-de-Ville 1</td>\n",
       "      <td>Genève</td>\n",
       "      <td>ARCHIVE</td>\n",
       "    </tr>\n",
       "  </tbody>\n",
       "</table>\n",
       "</div>"
      ],
      "text/plain": [
       "                        OBJET                    ADRESSE COMMUNE     type\n",
       "49  Archives d'Etat de Genève  Rue de l'Hôtel-de-Ville 1  Genève  ARCHIVE"
      ]
     },
     "execution_count": 10,
     "metadata": {},
     "output_type": "execute_result"
    }
   ],
   "source": [
    "data[data['OBJET'].duplicated()]"
   ]
  },
  {
   "cell_type": "code",
   "execution_count": 11,
   "metadata": {},
   "outputs": [
    {
     "data": {
      "text/html": [
       "<div>\n",
       "<style scoped>\n",
       "    .dataframe tbody tr th:only-of-type {\n",
       "        vertical-align: middle;\n",
       "    }\n",
       "\n",
       "    .dataframe tbody tr th {\n",
       "        vertical-align: top;\n",
       "    }\n",
       "\n",
       "    .dataframe thead th {\n",
       "        text-align: right;\n",
       "    }\n",
       "</style>\n",
       "<table border=\"1\" class=\"dataframe\">\n",
       "  <thead>\n",
       "    <tr style=\"text-align: right;\">\n",
       "      <th></th>\n",
       "      <th>OBJET</th>\n",
       "      <th>ADRESSE</th>\n",
       "      <th>COMMUNE</th>\n",
       "      <th>type</th>\n",
       "    </tr>\n",
       "  </thead>\n",
       "  <tbody>\n",
       "    <tr>\n",
       "      <th>41</th>\n",
       "      <td>Archives d'Etat de Genève</td>\n",
       "      <td>Rue de la Terrassière 52</td>\n",
       "      <td>Genève</td>\n",
       "      <td>ARCHIVE</td>\n",
       "    </tr>\n",
       "    <tr>\n",
       "      <th>49</th>\n",
       "      <td>Archives d'Etat de Genève</td>\n",
       "      <td>Rue de l'Hôtel-de-Ville 1</td>\n",
       "      <td>Genève</td>\n",
       "      <td>ARCHIVE</td>\n",
       "    </tr>\n",
       "  </tbody>\n",
       "</table>\n",
       "</div>"
      ],
      "text/plain": [
       "                        OBJET                    ADRESSE COMMUNE     type\n",
       "41  Archives d'Etat de Genève   Rue de la Terrassière 52  Genève  ARCHIVE\n",
       "49  Archives d'Etat de Genève  Rue de l'Hôtel-de-Ville 1  Genève  ARCHIVE"
      ]
     },
     "execution_count": 11,
     "metadata": {},
     "output_type": "execute_result"
    }
   ],
   "source": [
    "data[data['OBJET']==\"Archives d'Etat de Genève\"]"
   ]
  },
  {
   "cell_type": "markdown",
   "metadata": {},
   "source": [
    "Après vérification sur Google Maps, il s'agit du dépôt des Archives d'Etat de Genève."
   ]
  },
  {
   "cell_type": "code",
   "execution_count": 12,
   "metadata": {},
   "outputs": [],
   "source": [
    "data.OBJET.iloc[41] = \"Archives d'Etat de Genève (dépôt)\""
   ]
  },
  {
   "cell_type": "markdown",
   "metadata": {},
   "source": [
    "Afficher les lignes correspondant aux doublons dans la colonne \"ADRESSE\""
   ]
  },
  {
   "cell_type": "code",
   "execution_count": 13,
   "metadata": {},
   "outputs": [
    {
     "data": {
      "text/html": [
       "<div>\n",
       "<style scoped>\n",
       "    .dataframe tbody tr th:only-of-type {\n",
       "        vertical-align: middle;\n",
       "    }\n",
       "\n",
       "    .dataframe tbody tr th {\n",
       "        vertical-align: top;\n",
       "    }\n",
       "\n",
       "    .dataframe thead th {\n",
       "        text-align: right;\n",
       "    }\n",
       "</style>\n",
       "<table border=\"1\" class=\"dataframe\">\n",
       "  <thead>\n",
       "    <tr style=\"text-align: right;\">\n",
       "      <th></th>\n",
       "      <th>OBJET</th>\n",
       "      <th>ADRESSE</th>\n",
       "      <th>COMMUNE</th>\n",
       "      <th>type</th>\n",
       "    </tr>\n",
       "  </thead>\n",
       "  <tbody>\n",
       "    <tr>\n",
       "      <th>33</th>\n",
       "      <td>FMAC</td>\n",
       "      <td>Rue des Vieux-Grenadiers 10</td>\n",
       "      <td>Genève</td>\n",
       "      <td>MUSEE</td>\n",
       "    </tr>\n",
       "    <tr>\n",
       "      <th>38</th>\n",
       "      <td>Bibliothèque du musée international de la Réforme</td>\n",
       "      <td>Rue du Cloître 4</td>\n",
       "      <td>Genève</td>\n",
       "      <td>BIBLIOTHEQUE</td>\n",
       "    </tr>\n",
       "    <tr>\n",
       "      <th>42</th>\n",
       "      <td>Cabinet d'arts graphiques</td>\n",
       "      <td>Promenade du Pin 5</td>\n",
       "      <td>Genève</td>\n",
       "      <td>MUSEE</td>\n",
       "    </tr>\n",
       "    <tr>\n",
       "      <th>43</th>\n",
       "      <td>Archives historiques du BIT</td>\n",
       "      <td>Route des Morillons 4</td>\n",
       "      <td>Genève</td>\n",
       "      <td>ARCHIVE</td>\n",
       "    </tr>\n",
       "  </tbody>\n",
       "</table>\n",
       "</div>"
      ],
      "text/plain": [
       "                                                OBJET  \\\n",
       "33                                               FMAC   \n",
       "38  Bibliothèque du musée international de la Réforme   \n",
       "42                          Cabinet d'arts graphiques   \n",
       "43                        Archives historiques du BIT   \n",
       "\n",
       "                        ADRESSE COMMUNE          type  \n",
       "33  Rue des Vieux-Grenadiers 10  Genève         MUSEE  \n",
       "38             Rue du Cloître 4  Genève  BIBLIOTHEQUE  \n",
       "42           Promenade du Pin 5  Genève         MUSEE  \n",
       "43        Route des Morillons 4  Genève       ARCHIVE  "
      ]
     },
     "execution_count": 13,
     "metadata": {},
     "output_type": "execute_result"
    }
   ],
   "source": [
    "data[data['ADRESSE'].duplicated()]"
   ]
  },
  {
   "cell_type": "markdown",
   "metadata": {},
   "source": [
    "Vérification des lieux de l'adresse \"Rue des Vieux-Grenadiers 10\""
   ]
  },
  {
   "cell_type": "code",
   "execution_count": 14,
   "metadata": {},
   "outputs": [
    {
     "data": {
      "text/html": [
       "<div>\n",
       "<style scoped>\n",
       "    .dataframe tbody tr th:only-of-type {\n",
       "        vertical-align: middle;\n",
       "    }\n",
       "\n",
       "    .dataframe tbody tr th {\n",
       "        vertical-align: top;\n",
       "    }\n",
       "\n",
       "    .dataframe thead th {\n",
       "        text-align: right;\n",
       "    }\n",
       "</style>\n",
       "<table border=\"1\" class=\"dataframe\">\n",
       "  <thead>\n",
       "    <tr style=\"text-align: right;\">\n",
       "      <th></th>\n",
       "      <th>OBJET</th>\n",
       "      <th>ADRESSE</th>\n",
       "      <th>COMMUNE</th>\n",
       "      <th>type</th>\n",
       "    </tr>\n",
       "  </thead>\n",
       "  <tbody>\n",
       "    <tr>\n",
       "      <th>7</th>\n",
       "      <td>MAMCO</td>\n",
       "      <td>Rue des Vieux-Grenadiers 10</td>\n",
       "      <td>Genève</td>\n",
       "      <td>MUSEE</td>\n",
       "    </tr>\n",
       "    <tr>\n",
       "      <th>33</th>\n",
       "      <td>FMAC</td>\n",
       "      <td>Rue des Vieux-Grenadiers 10</td>\n",
       "      <td>Genève</td>\n",
       "      <td>MUSEE</td>\n",
       "    </tr>\n",
       "  </tbody>\n",
       "</table>\n",
       "</div>"
      ],
      "text/plain": [
       "    OBJET                      ADRESSE COMMUNE   type\n",
       "7   MAMCO  Rue des Vieux-Grenadiers 10  Genève  MUSEE\n",
       "33   FMAC  Rue des Vieux-Grenadiers 10  Genève  MUSEE"
      ]
     },
     "execution_count": 14,
     "metadata": {},
     "output_type": "execute_result"
    }
   ],
   "source": [
    "data[data['ADRESSE']=='Rue des Vieux-Grenadiers 10']"
   ]
  },
  {
   "cell_type": "markdown",
   "metadata": {},
   "source": [
    "Après vérification sur Google Maps, il se trouve que FMAC ne se trouve pas à cette adresse, mais dans la rue des bains 34."
   ]
  },
  {
   "cell_type": "code",
   "execution_count": 15,
   "metadata": {},
   "outputs": [],
   "source": [
    "data['ADRESSE'].iloc[33] = 'Rue des Bains 34'"
   ]
  },
  {
   "cell_type": "markdown",
   "metadata": {},
   "source": [
    "Vérification des lieux de l'adresse \"Rue du Cloître 4\""
   ]
  },
  {
   "cell_type": "code",
   "execution_count": 16,
   "metadata": {},
   "outputs": [
    {
     "data": {
      "text/html": [
       "<div>\n",
       "<style scoped>\n",
       "    .dataframe tbody tr th:only-of-type {\n",
       "        vertical-align: middle;\n",
       "    }\n",
       "\n",
       "    .dataframe tbody tr th {\n",
       "        vertical-align: top;\n",
       "    }\n",
       "\n",
       "    .dataframe thead th {\n",
       "        text-align: right;\n",
       "    }\n",
       "</style>\n",
       "<table border=\"1\" class=\"dataframe\">\n",
       "  <thead>\n",
       "    <tr style=\"text-align: right;\">\n",
       "      <th></th>\n",
       "      <th>OBJET</th>\n",
       "      <th>ADRESSE</th>\n",
       "      <th>COMMUNE</th>\n",
       "      <th>type</th>\n",
       "    </tr>\n",
       "  </thead>\n",
       "  <tbody>\n",
       "    <tr>\n",
       "      <th>4</th>\n",
       "      <td>Musée international de la Réforme</td>\n",
       "      <td>Rue du Cloître 4</td>\n",
       "      <td>Genève</td>\n",
       "      <td>MUSEE</td>\n",
       "    </tr>\n",
       "    <tr>\n",
       "      <th>38</th>\n",
       "      <td>Bibliothèque du musée international de la Réforme</td>\n",
       "      <td>Rue du Cloître 4</td>\n",
       "      <td>Genève</td>\n",
       "      <td>BIBLIOTHEQUE</td>\n",
       "    </tr>\n",
       "  </tbody>\n",
       "</table>\n",
       "</div>"
      ],
      "text/plain": [
       "                                                OBJET           ADRESSE  \\\n",
       "4                   Musée international de la Réforme  Rue du Cloître 4   \n",
       "38  Bibliothèque du musée international de la Réforme  Rue du Cloître 4   \n",
       "\n",
       "   COMMUNE          type  \n",
       "4   Genève         MUSEE  \n",
       "38  Genève  BIBLIOTHEQUE  "
      ]
     },
     "execution_count": 16,
     "metadata": {},
     "output_type": "execute_result"
    }
   ],
   "source": [
    "data[data['ADRESSE']=='Rue du Cloître 4']"
   ]
  },
  {
   "cell_type": "markdown",
   "metadata": {},
   "source": [
    "Après recherche, aucun élément semble infirmé l'hypothèse qu'il s'agisse d'une erreur."
   ]
  },
  {
   "cell_type": "markdown",
   "metadata": {},
   "source": [
    "Vérification des lieux de l'adresse \"Promenade du Pin 5\""
   ]
  },
  {
   "cell_type": "code",
   "execution_count": 17,
   "metadata": {},
   "outputs": [
    {
     "data": {
      "text/html": [
       "<div>\n",
       "<style scoped>\n",
       "    .dataframe tbody tr th:only-of-type {\n",
       "        vertical-align: middle;\n",
       "    }\n",
       "\n",
       "    .dataframe tbody tr th {\n",
       "        vertical-align: top;\n",
       "    }\n",
       "\n",
       "    .dataframe thead th {\n",
       "        text-align: right;\n",
       "    }\n",
       "</style>\n",
       "<table border=\"1\" class=\"dataframe\">\n",
       "  <thead>\n",
       "    <tr style=\"text-align: right;\">\n",
       "      <th></th>\n",
       "      <th>OBJET</th>\n",
       "      <th>ADRESSE</th>\n",
       "      <th>COMMUNE</th>\n",
       "      <th>type</th>\n",
       "    </tr>\n",
       "  </thead>\n",
       "  <tbody>\n",
       "    <tr>\n",
       "      <th>15</th>\n",
       "      <td>Bibliothèque d'art et d'archéologie</td>\n",
       "      <td>Promenade du Pin 5</td>\n",
       "      <td>Genève</td>\n",
       "      <td>BIBLIOTHEQUE</td>\n",
       "    </tr>\n",
       "    <tr>\n",
       "      <th>42</th>\n",
       "      <td>Cabinet d'arts graphiques</td>\n",
       "      <td>Promenade du Pin 5</td>\n",
       "      <td>Genève</td>\n",
       "      <td>MUSEE</td>\n",
       "    </tr>\n",
       "  </tbody>\n",
       "</table>\n",
       "</div>"
      ],
      "text/plain": [
       "                                  OBJET             ADRESSE COMMUNE  \\\n",
       "15  Bibliothèque d'art et d'archéologie  Promenade du Pin 5  Genève   \n",
       "42            Cabinet d'arts graphiques  Promenade du Pin 5  Genève   \n",
       "\n",
       "            type  \n",
       "15  BIBLIOTHEQUE  \n",
       "42         MUSEE  "
      ]
     },
     "execution_count": 17,
     "metadata": {},
     "output_type": "execute_result"
    }
   ],
   "source": [
    "data[data['ADRESSE']=='Promenade du Pin 5']"
   ]
  },
  {
   "cell_type": "markdown",
   "metadata": {},
   "source": [
    "Après vérification sur Google Maps, ils sont à la même adresse."
   ]
  },
  {
   "cell_type": "markdown",
   "metadata": {},
   "source": [
    "Vérification des lieux de l'adresse \"Route des Morillons 4\""
   ]
  },
  {
   "cell_type": "code",
   "execution_count": 18,
   "metadata": {},
   "outputs": [
    {
     "data": {
      "text/html": [
       "<div>\n",
       "<style scoped>\n",
       "    .dataframe tbody tr th:only-of-type {\n",
       "        vertical-align: middle;\n",
       "    }\n",
       "\n",
       "    .dataframe tbody tr th {\n",
       "        vertical-align: top;\n",
       "    }\n",
       "\n",
       "    .dataframe thead th {\n",
       "        text-align: right;\n",
       "    }\n",
       "</style>\n",
       "<table border=\"1\" class=\"dataframe\">\n",
       "  <thead>\n",
       "    <tr style=\"text-align: right;\">\n",
       "      <th></th>\n",
       "      <th>OBJET</th>\n",
       "      <th>ADRESSE</th>\n",
       "      <th>COMMUNE</th>\n",
       "      <th>type</th>\n",
       "    </tr>\n",
       "  </thead>\n",
       "  <tbody>\n",
       "    <tr>\n",
       "      <th>29</th>\n",
       "      <td>Bibliothèques du BIT</td>\n",
       "      <td>Route des Morillons 4</td>\n",
       "      <td>Genève</td>\n",
       "      <td>BIBLIOTHEQUE</td>\n",
       "    </tr>\n",
       "    <tr>\n",
       "      <th>43</th>\n",
       "      <td>Archives historiques du BIT</td>\n",
       "      <td>Route des Morillons 4</td>\n",
       "      <td>Genève</td>\n",
       "      <td>ARCHIVE</td>\n",
       "    </tr>\n",
       "  </tbody>\n",
       "</table>\n",
       "</div>"
      ],
      "text/plain": [
       "                          OBJET                ADRESSE COMMUNE          type\n",
       "29         Bibliothèques du BIT  Route des Morillons 4  Genève  BIBLIOTHEQUE\n",
       "43  Archives historiques du BIT  Route des Morillons 4  Genève       ARCHIVE"
      ]
     },
     "execution_count": 18,
     "metadata": {},
     "output_type": "execute_result"
    }
   ],
   "source": [
    "data[data['ADRESSE']=='Route des Morillons 4']"
   ]
  },
  {
   "cell_type": "markdown",
   "metadata": {},
   "source": [
    "Après vérification sur leur site officiel du Bureau international du travail, ils ont la même adresse."
   ]
  },
  {
   "cell_type": "markdown",
   "metadata": {},
   "source": [
    "Afficher les données manquantes"
   ]
  },
  {
   "cell_type": "code",
   "execution_count": 19,
   "metadata": {},
   "outputs": [
    {
     "data": {
      "text/plain": [
       "OBJET      0\n",
       "ADRESSE    0\n",
       "COMMUNE    0\n",
       "type       0\n",
       "dtype: int64"
      ]
     },
     "execution_count": 19,
     "metadata": {},
     "output_type": "execute_result"
    }
   ],
   "source": [
    "data.isna().sum()"
   ]
  },
  {
   "cell_type": "markdown",
   "metadata": {},
   "source": [
    "Afficher les 5 premières lignes du dataset"
   ]
  },
  {
   "cell_type": "code",
   "execution_count": 20,
   "metadata": {},
   "outputs": [
    {
     "data": {
      "text/html": [
       "<div>\n",
       "<style scoped>\n",
       "    .dataframe tbody tr th:only-of-type {\n",
       "        vertical-align: middle;\n",
       "    }\n",
       "\n",
       "    .dataframe tbody tr th {\n",
       "        vertical-align: top;\n",
       "    }\n",
       "\n",
       "    .dataframe thead th {\n",
       "        text-align: right;\n",
       "    }\n",
       "</style>\n",
       "<table border=\"1\" class=\"dataframe\">\n",
       "  <thead>\n",
       "    <tr style=\"text-align: right;\">\n",
       "      <th></th>\n",
       "      <th>OBJET</th>\n",
       "      <th>ADRESSE</th>\n",
       "      <th>COMMUNE</th>\n",
       "      <th>type</th>\n",
       "    </tr>\n",
       "  </thead>\n",
       "  <tbody>\n",
       "    <tr>\n",
       "      <th>0</th>\n",
       "      <td>Fond cantonal d'art contemporain</td>\n",
       "      <td>Sentier des Saules 3</td>\n",
       "      <td>Genève</td>\n",
       "      <td>MUSEE</td>\n",
       "    </tr>\n",
       "    <tr>\n",
       "      <th>1</th>\n",
       "      <td>Fondation Braillard architectes</td>\n",
       "      <td>Rue Saint-Léger 16</td>\n",
       "      <td>Genève</td>\n",
       "      <td>ARCHIVE</td>\n",
       "    </tr>\n",
       "    <tr>\n",
       "      <th>2</th>\n",
       "      <td>Musée d'art et d'histoire</td>\n",
       "      <td>Rue Charles-Galland 2</td>\n",
       "      <td>Genève</td>\n",
       "      <td>MUSEE</td>\n",
       "    </tr>\n",
       "    <tr>\n",
       "      <th>3</th>\n",
       "      <td>Bibliothèques et archives de la SDN et de l'ONU</td>\n",
       "      <td>Avenue de la Paix 14</td>\n",
       "      <td>Genève</td>\n",
       "      <td>BIBLIOTHEQUE</td>\n",
       "    </tr>\n",
       "    <tr>\n",
       "      <th>4</th>\n",
       "      <td>Musée international de la Réforme</td>\n",
       "      <td>Rue du Cloître 4</td>\n",
       "      <td>Genève</td>\n",
       "      <td>MUSEE</td>\n",
       "    </tr>\n",
       "  </tbody>\n",
       "</table>\n",
       "</div>"
      ],
      "text/plain": [
       "                                             OBJET                ADRESSE  \\\n",
       "0                 Fond cantonal d'art contemporain   Sentier des Saules 3   \n",
       "1                  Fondation Braillard architectes     Rue Saint-Léger 16   \n",
       "2                        Musée d'art et d'histoire  Rue Charles-Galland 2   \n",
       "3  Bibliothèques et archives de la SDN et de l'ONU   Avenue de la Paix 14   \n",
       "4                Musée international de la Réforme       Rue du Cloître 4   \n",
       "\n",
       "   COMMUNE          type  \n",
       "0  Genève          MUSEE  \n",
       "1   Genève       ARCHIVE  \n",
       "2   Genève         MUSEE  \n",
       "3   Genève  BIBLIOTHEQUE  \n",
       "4   Genève         MUSEE  "
      ]
     },
     "execution_count": 20,
     "metadata": {},
     "output_type": "execute_result"
    }
   ],
   "source": [
    "data.head()"
   ]
  },
  {
   "cell_type": "markdown",
   "metadata": {},
   "source": [
    "Ajout d'une colonne canton contenant la valeur \"Genève\" dans toutes les lignes du dataset"
   ]
  },
  {
   "cell_type": "code",
   "execution_count": 21,
   "metadata": {},
   "outputs": [],
   "source": [
    "data['canton'] = 'Genève'"
   ]
  },
  {
   "cell_type": "markdown",
   "metadata": {},
   "source": [
    "Vérifier si le type a bien été rempli."
   ]
  },
  {
   "cell_type": "code",
   "execution_count": 22,
   "metadata": {},
   "outputs": [
    {
     "data": {
      "text/html": [
       "<div>\n",
       "<style scoped>\n",
       "    .dataframe tbody tr th:only-of-type {\n",
       "        vertical-align: middle;\n",
       "    }\n",
       "\n",
       "    .dataframe tbody tr th {\n",
       "        vertical-align: top;\n",
       "    }\n",
       "\n",
       "    .dataframe thead th {\n",
       "        text-align: right;\n",
       "    }\n",
       "</style>\n",
       "<table border=\"1\" class=\"dataframe\">\n",
       "  <thead>\n",
       "    <tr style=\"text-align: right;\">\n",
       "      <th></th>\n",
       "      <th>OBJET</th>\n",
       "      <th>type</th>\n",
       "    </tr>\n",
       "  </thead>\n",
       "  <tbody>\n",
       "    <tr>\n",
       "      <th>0</th>\n",
       "      <td>Fond cantonal d'art contemporain</td>\n",
       "      <td>MUSEE</td>\n",
       "    </tr>\n",
       "    <tr>\n",
       "      <th>1</th>\n",
       "      <td>Fondation Braillard architectes</td>\n",
       "      <td>ARCHIVE</td>\n",
       "    </tr>\n",
       "    <tr>\n",
       "      <th>2</th>\n",
       "      <td>Musée d'art et d'histoire</td>\n",
       "      <td>MUSEE</td>\n",
       "    </tr>\n",
       "    <tr>\n",
       "      <th>3</th>\n",
       "      <td>Bibliothèques et archives de la SDN et de l'ONU</td>\n",
       "      <td>BIBLIOTHEQUE</td>\n",
       "    </tr>\n",
       "    <tr>\n",
       "      <th>4</th>\n",
       "      <td>Musée international de la Réforme</td>\n",
       "      <td>MUSEE</td>\n",
       "    </tr>\n",
       "    <tr>\n",
       "      <th>5</th>\n",
       "      <td>Muséum d'histoire naturelle</td>\n",
       "      <td>MUSEE</td>\n",
       "    </tr>\n",
       "    <tr>\n",
       "      <th>6</th>\n",
       "      <td>Musée d'ethnographie</td>\n",
       "      <td>MUSEE</td>\n",
       "    </tr>\n",
       "    <tr>\n",
       "      <th>7</th>\n",
       "      <td>MAMCO</td>\n",
       "      <td>MUSEE</td>\n",
       "    </tr>\n",
       "    <tr>\n",
       "      <th>8</th>\n",
       "      <td>Archives de la TSR, D+A</td>\n",
       "      <td>ARCHIVE</td>\n",
       "    </tr>\n",
       "    <tr>\n",
       "      <th>9</th>\n",
       "      <td>Fondation pour les arts de scène et de l'image</td>\n",
       "      <td>ARCHIVE</td>\n",
       "    </tr>\n",
       "    <tr>\n",
       "      <th>10</th>\n",
       "      <td>Institut d'Architecture de l'Université de Genève</td>\n",
       "      <td>BIBLIOTHEQUE</td>\n",
       "    </tr>\n",
       "    <tr>\n",
       "      <th>11</th>\n",
       "      <td>Bibliothèque du conservatoire de musique</td>\n",
       "      <td>BIBLIOTHEQUE</td>\n",
       "    </tr>\n",
       "    <tr>\n",
       "      <th>12</th>\n",
       "      <td>Bibliotheca Bodmeriana - Fondation Bodmer</td>\n",
       "      <td>BIBLIOTHEQUE</td>\n",
       "    </tr>\n",
       "    <tr>\n",
       "      <th>13</th>\n",
       "      <td>Archives de l'UIT</td>\n",
       "      <td>ARCHIVE</td>\n",
       "    </tr>\n",
       "    <tr>\n",
       "      <th>14</th>\n",
       "      <td>Bibliothèque musicale de la Ville de Genève</td>\n",
       "      <td>BIBLIOTHEQUE</td>\n",
       "    </tr>\n",
       "    <tr>\n",
       "      <th>15</th>\n",
       "      <td>Bibliothèque d'art et d'archéologie</td>\n",
       "      <td>BIBLIOTHEQUE</td>\n",
       "    </tr>\n",
       "    <tr>\n",
       "      <th>16</th>\n",
       "      <td>Musée d'histoire des sciences</td>\n",
       "      <td>MUSEE</td>\n",
       "    </tr>\n",
       "    <tr>\n",
       "      <th>17</th>\n",
       "      <td>Centre d'iconographie genevoise</td>\n",
       "      <td>ARCHIVE</td>\n",
       "    </tr>\n",
       "    <tr>\n",
       "      <th>18</th>\n",
       "      <td>Fondation Archives Institut J.-J.-Rousseau</td>\n",
       "      <td>ARCHIVE</td>\n",
       "    </tr>\n",
       "    <tr>\n",
       "      <th>19</th>\n",
       "      <td>Archives de l'université</td>\n",
       "      <td>ARCHIVE</td>\n",
       "    </tr>\n",
       "    <tr>\n",
       "      <th>20</th>\n",
       "      <td>Musée de Carouge</td>\n",
       "      <td>MUSEE</td>\n",
       "    </tr>\n",
       "    <tr>\n",
       "      <th>21</th>\n",
       "      <td>Archives de la Ville de Genève</td>\n",
       "      <td>ARCHIVE</td>\n",
       "    </tr>\n",
       "    <tr>\n",
       "      <th>22</th>\n",
       "      <td>Archives de l'YMCY</td>\n",
       "      <td>ARCHIVE</td>\n",
       "    </tr>\n",
       "    <tr>\n",
       "      <th>23</th>\n",
       "      <td>Archives de l'OMC</td>\n",
       "      <td>ARCHIVE</td>\n",
       "    </tr>\n",
       "    <tr>\n",
       "      <th>24</th>\n",
       "      <td>Archives de l'OMM</td>\n",
       "      <td>ARCHIVE</td>\n",
       "    </tr>\n",
       "    <tr>\n",
       "      <th>25</th>\n",
       "      <td>Archives communales de Carouge</td>\n",
       "      <td>ARCHIVE</td>\n",
       "    </tr>\n",
       "    <tr>\n",
       "      <th>26</th>\n",
       "      <td>Bibliothèque juive de Genève \"Gérard Nordman\"</td>\n",
       "      <td>BIBLIOTHEQUE</td>\n",
       "    </tr>\n",
       "    <tr>\n",
       "      <th>27</th>\n",
       "      <td>Archives du Collège de Genève</td>\n",
       "      <td>ARCHIVE</td>\n",
       "    </tr>\n",
       "    <tr>\n",
       "      <th>28</th>\n",
       "      <td>Bibliothèque de la Société de lecture de Genève</td>\n",
       "      <td>BIBLIOTHEQUE</td>\n",
       "    </tr>\n",
       "    <tr>\n",
       "      <th>29</th>\n",
       "      <td>Bibliothèques du BIT</td>\n",
       "      <td>BIBLIOTHEQUE</td>\n",
       "    </tr>\n",
       "    <tr>\n",
       "      <th>30</th>\n",
       "      <td>Maison Tavel</td>\n",
       "      <td>MUSEE</td>\n",
       "    </tr>\n",
       "    <tr>\n",
       "      <th>31</th>\n",
       "      <td>Bibliothèque de La Grange</td>\n",
       "      <td>BIBLIOTHEQUE</td>\n",
       "    </tr>\n",
       "    <tr>\n",
       "      <th>32</th>\n",
       "      <td>Fondation Archives Vie Privée</td>\n",
       "      <td>ARCHIVE</td>\n",
       "    </tr>\n",
       "    <tr>\n",
       "      <th>33</th>\n",
       "      <td>FMAC</td>\n",
       "      <td>MUSEE</td>\n",
       "    </tr>\n",
       "    <tr>\n",
       "      <th>34</th>\n",
       "      <td>Archives centrales des HUG</td>\n",
       "      <td>ARCHIVE</td>\n",
       "    </tr>\n",
       "    <tr>\n",
       "      <th>35</th>\n",
       "      <td>Archives Micheli</td>\n",
       "      <td>ARCHIVE</td>\n",
       "    </tr>\n",
       "    <tr>\n",
       "      <th>36</th>\n",
       "      <td>Musée de l'Ordre de Malte</td>\n",
       "      <td>MUSEE</td>\n",
       "    </tr>\n",
       "    <tr>\n",
       "      <th>37</th>\n",
       "      <td>Bibliothèque et collections du CJB</td>\n",
       "      <td>MUSEE</td>\n",
       "    </tr>\n",
       "    <tr>\n",
       "      <th>38</th>\n",
       "      <td>Bibliothèque du musée international de la Réforme</td>\n",
       "      <td>BIBLIOTHEQUE</td>\n",
       "    </tr>\n",
       "    <tr>\n",
       "      <th>39</th>\n",
       "      <td>Institut et Musée Voltaire</td>\n",
       "      <td>MUSEE</td>\n",
       "    </tr>\n",
       "    <tr>\n",
       "      <th>40</th>\n",
       "      <td>Musée Ariana</td>\n",
       "      <td>MUSEE</td>\n",
       "    </tr>\n",
       "    <tr>\n",
       "      <th>41</th>\n",
       "      <td>Archives d'Etat de Genève (dépôt)</td>\n",
       "      <td>ARCHIVE</td>\n",
       "    </tr>\n",
       "    <tr>\n",
       "      <th>42</th>\n",
       "      <td>Cabinet d'arts graphiques</td>\n",
       "      <td>MUSEE</td>\n",
       "    </tr>\n",
       "    <tr>\n",
       "      <th>43</th>\n",
       "      <td>Archives historiques du BIT</td>\n",
       "      <td>ARCHIVE</td>\n",
       "    </tr>\n",
       "    <tr>\n",
       "      <th>44</th>\n",
       "      <td>Musée Barbier-Mueller</td>\n",
       "      <td>MUSEE</td>\n",
       "    </tr>\n",
       "    <tr>\n",
       "      <th>45</th>\n",
       "      <td>Annexe du musée d'ethnographie</td>\n",
       "      <td>MUSEE</td>\n",
       "    </tr>\n",
       "    <tr>\n",
       "      <th>46</th>\n",
       "      <td>Archives de l'UNHCR</td>\n",
       "      <td>ARCHIVE</td>\n",
       "    </tr>\n",
       "    <tr>\n",
       "      <th>47</th>\n",
       "      <td>Bibliothèque de Genève</td>\n",
       "      <td>BIBLIOTHEQUE</td>\n",
       "    </tr>\n",
       "    <tr>\n",
       "      <th>48</th>\n",
       "      <td>La Criée</td>\n",
       "      <td>ARCHIVE</td>\n",
       "    </tr>\n",
       "    <tr>\n",
       "      <th>49</th>\n",
       "      <td>Archives d'Etat de Genève</td>\n",
       "      <td>ARCHIVE</td>\n",
       "    </tr>\n",
       "    <tr>\n",
       "      <th>50</th>\n",
       "      <td>Ecomusée Voltaire</td>\n",
       "      <td>MUSEE</td>\n",
       "    </tr>\n",
       "    <tr>\n",
       "      <th>51</th>\n",
       "      <td>Archives du  CICR</td>\n",
       "      <td>ARCHIVE</td>\n",
       "    </tr>\n",
       "    <tr>\n",
       "      <th>52</th>\n",
       "      <td>Fondation Zoubov</td>\n",
       "      <td>MUSEE</td>\n",
       "    </tr>\n",
       "    <tr>\n",
       "      <th>53</th>\n",
       "      <td>Fondation Baur, musée des arts d'Extrème-Orient</td>\n",
       "      <td>MUSEE</td>\n",
       "    </tr>\n",
       "    <tr>\n",
       "      <th>54</th>\n",
       "      <td>Musée int. de la croix rouge et du croissant r...</td>\n",
       "      <td>MUSEE</td>\n",
       "    </tr>\n",
       "  </tbody>\n",
       "</table>\n",
       "</div>"
      ],
      "text/plain": [
       "                                                OBJET          type\n",
       "0                    Fond cantonal d'art contemporain         MUSEE\n",
       "1                     Fondation Braillard architectes       ARCHIVE\n",
       "2                           Musée d'art et d'histoire         MUSEE\n",
       "3     Bibliothèques et archives de la SDN et de l'ONU  BIBLIOTHEQUE\n",
       "4                   Musée international de la Réforme         MUSEE\n",
       "5                         Muséum d'histoire naturelle         MUSEE\n",
       "6                                Musée d'ethnographie         MUSEE\n",
       "7                                               MAMCO         MUSEE\n",
       "8                             Archives de la TSR, D+A       ARCHIVE\n",
       "9      Fondation pour les arts de scène et de l'image       ARCHIVE\n",
       "10  Institut d'Architecture de l'Université de Genève  BIBLIOTHEQUE\n",
       "11           Bibliothèque du conservatoire de musique  BIBLIOTHEQUE\n",
       "12          Bibliotheca Bodmeriana - Fondation Bodmer  BIBLIOTHEQUE\n",
       "13                                  Archives de l'UIT       ARCHIVE\n",
       "14        Bibliothèque musicale de la Ville de Genève  BIBLIOTHEQUE\n",
       "15                Bibliothèque d'art et d'archéologie  BIBLIOTHEQUE\n",
       "16                      Musée d'histoire des sciences         MUSEE\n",
       "17                    Centre d'iconographie genevoise       ARCHIVE\n",
       "18         Fondation Archives Institut J.-J.-Rousseau       ARCHIVE\n",
       "19                           Archives de l'université       ARCHIVE\n",
       "20                                   Musée de Carouge         MUSEE\n",
       "21                     Archives de la Ville de Genève       ARCHIVE\n",
       "22                                 Archives de l'YMCY       ARCHIVE\n",
       "23                                  Archives de l'OMC       ARCHIVE\n",
       "24                                  Archives de l'OMM       ARCHIVE\n",
       "25                     Archives communales de Carouge       ARCHIVE\n",
       "26      Bibliothèque juive de Genève \"Gérard Nordman\"  BIBLIOTHEQUE\n",
       "27                      Archives du Collège de Genève       ARCHIVE\n",
       "28    Bibliothèque de la Société de lecture de Genève  BIBLIOTHEQUE\n",
       "29                               Bibliothèques du BIT  BIBLIOTHEQUE\n",
       "30                                       Maison Tavel         MUSEE\n",
       "31                          Bibliothèque de La Grange  BIBLIOTHEQUE\n",
       "32                      Fondation Archives Vie Privée       ARCHIVE\n",
       "33                                               FMAC         MUSEE\n",
       "34                         Archives centrales des HUG       ARCHIVE\n",
       "35                                   Archives Micheli       ARCHIVE\n",
       "36                          Musée de l'Ordre de Malte         MUSEE\n",
       "37                 Bibliothèque et collections du CJB         MUSEE\n",
       "38  Bibliothèque du musée international de la Réforme  BIBLIOTHEQUE\n",
       "39                         Institut et Musée Voltaire         MUSEE\n",
       "40                                       Musée Ariana         MUSEE\n",
       "41                  Archives d'Etat de Genève (dépôt)       ARCHIVE\n",
       "42                          Cabinet d'arts graphiques         MUSEE\n",
       "43                        Archives historiques du BIT       ARCHIVE\n",
       "44                              Musée Barbier-Mueller         MUSEE\n",
       "45                     Annexe du musée d'ethnographie         MUSEE\n",
       "46                                Archives de l'UNHCR       ARCHIVE\n",
       "47                             Bibliothèque de Genève  BIBLIOTHEQUE\n",
       "48                                           La Criée       ARCHIVE\n",
       "49                          Archives d'Etat de Genève       ARCHIVE\n",
       "50                                  Ecomusée Voltaire         MUSEE\n",
       "51                                  Archives du  CICR       ARCHIVE\n",
       "52                                   Fondation Zoubov         MUSEE\n",
       "53    Fondation Baur, musée des arts d'Extrème-Orient         MUSEE\n",
       "54  Musée int. de la croix rouge et du croissant r...         MUSEE"
      ]
     },
     "execution_count": 22,
     "metadata": {},
     "output_type": "execute_result"
    }
   ],
   "source": [
    "data[['OBJET','type']]"
   ]
  },
  {
   "cell_type": "markdown",
   "metadata": {},
   "source": [
    "Afficher les valeurs uniques de la colonne type"
   ]
  },
  {
   "cell_type": "code",
   "execution_count": 23,
   "metadata": {},
   "outputs": [
    {
     "data": {
      "text/plain": [
       "array(['MUSEE', 'ARCHIVE', 'BIBLIOTHEQUE'], dtype=object)"
      ]
     },
     "execution_count": 23,
     "metadata": {},
     "output_type": "execute_result"
    }
   ],
   "source": [
    "data['type'].unique()"
   ]
  },
  {
   "cell_type": "markdown",
   "metadata": {},
   "source": [
    "Afficher les 5 premières lignes du dataset"
   ]
  },
  {
   "cell_type": "code",
   "execution_count": 24,
   "metadata": {},
   "outputs": [
    {
     "data": {
      "text/html": [
       "<div>\n",
       "<style scoped>\n",
       "    .dataframe tbody tr th:only-of-type {\n",
       "        vertical-align: middle;\n",
       "    }\n",
       "\n",
       "    .dataframe tbody tr th {\n",
       "        vertical-align: top;\n",
       "    }\n",
       "\n",
       "    .dataframe thead th {\n",
       "        text-align: right;\n",
       "    }\n",
       "</style>\n",
       "<table border=\"1\" class=\"dataframe\">\n",
       "  <thead>\n",
       "    <tr style=\"text-align: right;\">\n",
       "      <th></th>\n",
       "      <th>OBJET</th>\n",
       "      <th>ADRESSE</th>\n",
       "      <th>COMMUNE</th>\n",
       "      <th>type</th>\n",
       "      <th>canton</th>\n",
       "    </tr>\n",
       "  </thead>\n",
       "  <tbody>\n",
       "    <tr>\n",
       "      <th>0</th>\n",
       "      <td>Fond cantonal d'art contemporain</td>\n",
       "      <td>Sentier des Saules 3</td>\n",
       "      <td>Genève</td>\n",
       "      <td>MUSEE</td>\n",
       "      <td>Genève</td>\n",
       "    </tr>\n",
       "    <tr>\n",
       "      <th>1</th>\n",
       "      <td>Fondation Braillard architectes</td>\n",
       "      <td>Rue Saint-Léger 16</td>\n",
       "      <td>Genève</td>\n",
       "      <td>ARCHIVE</td>\n",
       "      <td>Genève</td>\n",
       "    </tr>\n",
       "    <tr>\n",
       "      <th>2</th>\n",
       "      <td>Musée d'art et d'histoire</td>\n",
       "      <td>Rue Charles-Galland 2</td>\n",
       "      <td>Genève</td>\n",
       "      <td>MUSEE</td>\n",
       "      <td>Genève</td>\n",
       "    </tr>\n",
       "    <tr>\n",
       "      <th>3</th>\n",
       "      <td>Bibliothèques et archives de la SDN et de l'ONU</td>\n",
       "      <td>Avenue de la Paix 14</td>\n",
       "      <td>Genève</td>\n",
       "      <td>BIBLIOTHEQUE</td>\n",
       "      <td>Genève</td>\n",
       "    </tr>\n",
       "    <tr>\n",
       "      <th>4</th>\n",
       "      <td>Musée international de la Réforme</td>\n",
       "      <td>Rue du Cloître 4</td>\n",
       "      <td>Genève</td>\n",
       "      <td>MUSEE</td>\n",
       "      <td>Genève</td>\n",
       "    </tr>\n",
       "  </tbody>\n",
       "</table>\n",
       "</div>"
      ],
      "text/plain": [
       "                                             OBJET                ADRESSE  \\\n",
       "0                 Fond cantonal d'art contemporain   Sentier des Saules 3   \n",
       "1                  Fondation Braillard architectes     Rue Saint-Léger 16   \n",
       "2                        Musée d'art et d'histoire  Rue Charles-Galland 2   \n",
       "3  Bibliothèques et archives de la SDN et de l'ONU   Avenue de la Paix 14   \n",
       "4                Musée international de la Réforme       Rue du Cloître 4   \n",
       "\n",
       "   COMMUNE          type  canton  \n",
       "0  Genève          MUSEE  Genève  \n",
       "1   Genève       ARCHIVE  Genève  \n",
       "2   Genève         MUSEE  Genève  \n",
       "3   Genève  BIBLIOTHEQUE  Genève  \n",
       "4   Genève         MUSEE  Genève  "
      ]
     },
     "execution_count": 24,
     "metadata": {},
     "output_type": "execute_result"
    }
   ],
   "source": [
    "data.head()"
   ]
  },
  {
   "cell_type": "markdown",
   "metadata": {},
   "source": [
    "Transformer le dataset préparé en fichier CSV"
   ]
  },
  {
   "cell_type": "code",
   "execution_count": 25,
   "metadata": {},
   "outputs": [],
   "source": [
    "data.to_csv('lieux_touristiques_nettoyes.csv',index=False, sep=';',encoding='UTF-8')"
   ]
  }
 ],
 "metadata": {
  "kernelspec": {
   "display_name": "Python 3",
   "language": "python",
   "name": "python3"
  },
  "language_info": {
   "codemirror_mode": {
    "name": "ipython",
    "version": 3
   },
   "file_extension": ".py",
   "mimetype": "text/x-python",
   "name": "python",
   "nbconvert_exporter": "python",
   "pygments_lexer": "ipython3",
   "version": "3.8.5"
  },
  "toc": {
   "base_numbering": 1,
   "nav_menu": {},
   "number_sections": false,
   "sideBar": true,
   "skip_h1_title": false,
   "title_cell": "Table des matières",
   "title_sidebar": "Contents",
   "toc_cell": false,
   "toc_position": {},
   "toc_section_display": true,
   "toc_window_display": false
  }
 },
 "nbformat": 4,
 "nbformat_minor": 4
}
