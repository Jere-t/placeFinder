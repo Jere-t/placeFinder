{
 "cells": [
  {
   "cell_type": "code",
   "execution_count": 1,
   "metadata": {},
   "outputs": [],
   "source": [
    "import numpy as np\n",
    "import pandas as pd"
   ]
  },
  {
   "cell_type": "code",
   "execution_count": 2,
   "metadata": {},
   "outputs": [],
   "source": [
    "pd.options.display.max_rows = None\n",
    "pd.options.display.max_columns = None"
   ]
  },
  {
   "cell_type": "markdown",
   "metadata": {},
   "source": [
    "Importer le fichier CSV contenant le dataset des dépenses communales dans le notebook"
   ]
  },
  {
   "cell_type": "code",
   "execution_count": 3,
   "metadata": {},
   "outputs": [],
   "source": [
    "data = pd.read_csv('ts-b-ssv-18.03.05-2021-modifier.csv', sep=';')"
   ]
  },
  {
   "cell_type": "markdown",
   "metadata": {},
   "source": [
    "Afficher les 5 premières lignes du dataset"
   ]
  },
  {
   "cell_type": "code",
   "execution_count": 4,
   "metadata": {},
   "outputs": [
    {
     "data": {
      "text/html": [
       "<div>\n",
       "<style scoped>\n",
       "    .dataframe tbody tr th:only-of-type {\n",
       "        vertical-align: middle;\n",
       "    }\n",
       "\n",
       "    .dataframe tbody tr th {\n",
       "        vertical-align: top;\n",
       "    }\n",
       "\n",
       "    .dataframe thead th {\n",
       "        text-align: right;\n",
       "    }\n",
       "</style>\n",
       "<table border=\"1\" class=\"dataframe\">\n",
       "  <thead>\n",
       "    <tr style=\"text-align: right;\">\n",
       "      <th></th>\n",
       "      <th>GEONR</th>\n",
       "      <th>GEONAME</th>\n",
       "      <th>CLASS_HAB</th>\n",
       "      <th>VARIABLE</th>\n",
       "      <th>VALUE</th>\n",
       "      <th>STATUS</th>\n",
       "    </tr>\n",
       "  </thead>\n",
       "  <tbody>\n",
       "    <tr>\n",
       "      <th>0</th>\n",
       "      <td>2701</td>\n",
       "      <td>Basel</td>\n",
       "      <td>6</td>\n",
       "      <td>depc_t</td>\n",
       "      <td>319492.0</td>\n",
       "      <td>A</td>\n",
       "    </tr>\n",
       "    <tr>\n",
       "      <th>1</th>\n",
       "      <td>2701</td>\n",
       "      <td>Basel</td>\n",
       "      <td>6</td>\n",
       "      <td>depc_pat_cul</td>\n",
       "      <td>89279.0</td>\n",
       "      <td>A</td>\n",
       "    </tr>\n",
       "    <tr>\n",
       "      <th>2</th>\n",
       "      <td>2701</td>\n",
       "      <td>Basel</td>\n",
       "      <td>6</td>\n",
       "      <td>depc_cula</td>\n",
       "      <td>96742.0</td>\n",
       "      <td>A</td>\n",
       "    </tr>\n",
       "    <tr>\n",
       "      <th>3</th>\n",
       "      <td>2701</td>\n",
       "      <td>Basel</td>\n",
       "      <td>6</td>\n",
       "      <td>depc_med</td>\n",
       "      <td>0.0</td>\n",
       "      <td>A</td>\n",
       "    </tr>\n",
       "    <tr>\n",
       "      <th>4</th>\n",
       "      <td>2701</td>\n",
       "      <td>Basel</td>\n",
       "      <td>6</td>\n",
       "      <td>depc_spo</td>\n",
       "      <td>133339.0</td>\n",
       "      <td>A</td>\n",
       "    </tr>\n",
       "  </tbody>\n",
       "</table>\n",
       "</div>"
      ],
      "text/plain": [
       "   GEONR GEONAME  CLASS_HAB      VARIABLE     VALUE STATUS\n",
       "0   2701   Basel          6        depc_t  319492.0      A\n",
       "1   2701   Basel          6  depc_pat_cul   89279.0      A\n",
       "2   2701   Basel          6     depc_cula   96742.0      A\n",
       "3   2701   Basel          6      depc_med       0.0      A\n",
       "4   2701   Basel          6      depc_spo  133339.0      A"
      ]
     },
     "execution_count": 4,
     "metadata": {},
     "output_type": "execute_result"
    }
   ],
   "source": [
    "data.head()"
   ]
  },
  {
   "cell_type": "markdown",
   "metadata": {},
   "source": [
    "Nombre de lignes dans le dataset"
   ]
  },
  {
   "cell_type": "code",
   "execution_count": 5,
   "metadata": {},
   "outputs": [
    {
     "data": {
      "text/plain": [
       "2052"
      ]
     },
     "execution_count": 5,
     "metadata": {},
     "output_type": "execute_result"
    }
   ],
   "source": [
    "len(data)"
   ]
  },
  {
   "cell_type": "markdown",
   "metadata": {},
   "source": [
    "les valeurs uniques de la colonne CLASS_HAB"
   ]
  },
  {
   "cell_type": "code",
   "execution_count": 6,
   "metadata": {},
   "outputs": [
    {
     "data": {
      "text/plain": [
       "array([6, 5, 4, 3, 2, 1], dtype=int64)"
      ]
     },
     "execution_count": 6,
     "metadata": {},
     "output_type": "execute_result"
    }
   ],
   "source": [
    "data['CLASS_HAB'].unique()"
   ]
  },
  {
   "cell_type": "markdown",
   "metadata": {},
   "source": [
    "Afficher les duplications dans tout le dataset"
   ]
  },
  {
   "cell_type": "code",
   "execution_count": 7,
   "metadata": {},
   "outputs": [
    {
     "data": {
      "text/plain": [
       "0"
      ]
     },
     "execution_count": 7,
     "metadata": {},
     "output_type": "execute_result"
    }
   ],
   "source": [
    "data.duplicated().sum()"
   ]
  },
  {
   "cell_type": "markdown",
   "metadata": {},
   "source": [
    "Afficher les duplications par colonne"
   ]
  },
  {
   "cell_type": "code",
   "execution_count": 8,
   "metadata": {
    "scrolled": true
   },
   "outputs": [
    {
     "name": "stdout",
     "output_type": "stream",
     "text": [
      "GEONR  :  1881\n",
      "GEONAME  :  1881\n",
      "CLASS_HAB  :  2046\n",
      "VARIABLE  :  2040\n",
      "VALUE  :  1112\n",
      "STATUS  :  2049\n"
     ]
    }
   ],
   "source": [
    "for col in data.columns:\n",
    "    print(col,' : ',data[col].duplicated().sum())"
   ]
  },
  {
   "cell_type": "markdown",
   "metadata": {},
   "source": [
    "Afficher les duplications en prenant en compte les colonnes GEONR, VARIABLE et VALUE "
   ]
  },
  {
   "cell_type": "code",
   "execution_count": 9,
   "metadata": {},
   "outputs": [
    {
     "data": {
      "text/plain": [
       "0"
      ]
     },
     "execution_count": 9,
     "metadata": {},
     "output_type": "execute_result"
    }
   ],
   "source": [
    "data[['GEONR','VARIABLE','VALUE']].duplicated().sum()"
   ]
  },
  {
   "cell_type": "markdown",
   "metadata": {},
   "source": [
    "Nombre de valeurs manquantes par colonne"
   ]
  },
  {
   "cell_type": "code",
   "execution_count": 10,
   "metadata": {
    "scrolled": true
   },
   "outputs": [
    {
     "data": {
      "text/plain": [
       "GEONR         0\n",
       "GEONAME       0\n",
       "CLASS_HAB     0\n",
       "VARIABLE      0\n",
       "VALUE        19\n",
       "STATUS        0\n",
       "dtype: int64"
      ]
     },
     "execution_count": 10,
     "metadata": {},
     "output_type": "execute_result"
    }
   ],
   "source": [
    "data.isnull().sum()"
   ]
  },
  {
   "cell_type": "markdown",
   "metadata": {},
   "source": [
    "Afficher les valeurs nulles de l'attribut VALUE"
   ]
  },
  {
   "cell_type": "code",
   "execution_count": 11,
   "metadata": {
    "scrolled": false
   },
   "outputs": [
    {
     "data": {
      "text/html": [
       "<div>\n",
       "<style scoped>\n",
       "    .dataframe tbody tr th:only-of-type {\n",
       "        vertical-align: middle;\n",
       "    }\n",
       "\n",
       "    .dataframe tbody tr th {\n",
       "        vertical-align: top;\n",
       "    }\n",
       "\n",
       "    .dataframe thead th {\n",
       "        text-align: right;\n",
       "    }\n",
       "</style>\n",
       "<table border=\"1\" class=\"dataframe\">\n",
       "  <thead>\n",
       "    <tr style=\"text-align: right;\">\n",
       "      <th></th>\n",
       "      <th>GEONR</th>\n",
       "      <th>GEONAME</th>\n",
       "      <th>CLASS_HAB</th>\n",
       "      <th>VARIABLE</th>\n",
       "      <th>VALUE</th>\n",
       "      <th>STATUS</th>\n",
       "    </tr>\n",
       "  </thead>\n",
       "  <tbody>\n",
       "    <tr>\n",
       "      <th>1165</th>\n",
       "      <td>3271</td>\n",
       "      <td>Buchs (SG)</td>\n",
       "      <td>2</td>\n",
       "      <td>depc_pat_cul</td>\n",
       "      <td>NaN</td>\n",
       "      <td>N</td>\n",
       "    </tr>\n",
       "    <tr>\n",
       "      <th>1477</th>\n",
       "      <td>2937</td>\n",
       "      <td>Neuhausen am Rheinfall</td>\n",
       "      <td>2</td>\n",
       "      <td>depc_pat_cul</td>\n",
       "      <td>NaN</td>\n",
       "      <td>N</td>\n",
       "    </tr>\n",
       "    <tr>\n",
       "      <th>1549</th>\n",
       "      <td>5589</td>\n",
       "      <td>Prilly</td>\n",
       "      <td>2</td>\n",
       "      <td>depc_pat_cul</td>\n",
       "      <td>NaN</td>\n",
       "      <td>N</td>\n",
       "    </tr>\n",
       "    <tr>\n",
       "      <th>1680</th>\n",
       "      <td>4012</td>\n",
       "      <td>Suhr</td>\n",
       "      <td>2</td>\n",
       "      <td>depc_t</td>\n",
       "      <td>NaN</td>\n",
       "      <td>M</td>\n",
       "    </tr>\n",
       "    <tr>\n",
       "      <th>1681</th>\n",
       "      <td>4012</td>\n",
       "      <td>Suhr</td>\n",
       "      <td>2</td>\n",
       "      <td>depc_pat_cul</td>\n",
       "      <td>NaN</td>\n",
       "      <td>M</td>\n",
       "    </tr>\n",
       "    <tr>\n",
       "      <th>1682</th>\n",
       "      <td>4012</td>\n",
       "      <td>Suhr</td>\n",
       "      <td>2</td>\n",
       "      <td>depc_cula</td>\n",
       "      <td>NaN</td>\n",
       "      <td>M</td>\n",
       "    </tr>\n",
       "    <tr>\n",
       "      <th>1683</th>\n",
       "      <td>4012</td>\n",
       "      <td>Suhr</td>\n",
       "      <td>2</td>\n",
       "      <td>depc_med</td>\n",
       "      <td>NaN</td>\n",
       "      <td>M</td>\n",
       "    </tr>\n",
       "    <tr>\n",
       "      <th>1684</th>\n",
       "      <td>4012</td>\n",
       "      <td>Suhr</td>\n",
       "      <td>2</td>\n",
       "      <td>depc_spo</td>\n",
       "      <td>NaN</td>\n",
       "      <td>M</td>\n",
       "    </tr>\n",
       "    <tr>\n",
       "      <th>1685</th>\n",
       "      <td>4012</td>\n",
       "      <td>Suhr</td>\n",
       "      <td>2</td>\n",
       "      <td>depc_egl</td>\n",
       "      <td>NaN</td>\n",
       "      <td>M</td>\n",
       "    </tr>\n",
       "    <tr>\n",
       "      <th>1686</th>\n",
       "      <td>4012</td>\n",
       "      <td>Suhr</td>\n",
       "      <td>2</td>\n",
       "      <td>depic_t</td>\n",
       "      <td>NaN</td>\n",
       "      <td>M</td>\n",
       "    </tr>\n",
       "    <tr>\n",
       "      <th>1687</th>\n",
       "      <td>4012</td>\n",
       "      <td>Suhr</td>\n",
       "      <td>2</td>\n",
       "      <td>depic_pat_cul</td>\n",
       "      <td>NaN</td>\n",
       "      <td>M</td>\n",
       "    </tr>\n",
       "    <tr>\n",
       "      <th>1688</th>\n",
       "      <td>4012</td>\n",
       "      <td>Suhr</td>\n",
       "      <td>2</td>\n",
       "      <td>depic_cula</td>\n",
       "      <td>NaN</td>\n",
       "      <td>M</td>\n",
       "    </tr>\n",
       "    <tr>\n",
       "      <th>1689</th>\n",
       "      <td>4012</td>\n",
       "      <td>Suhr</td>\n",
       "      <td>2</td>\n",
       "      <td>depic_med</td>\n",
       "      <td>NaN</td>\n",
       "      <td>M</td>\n",
       "    </tr>\n",
       "    <tr>\n",
       "      <th>1690</th>\n",
       "      <td>4012</td>\n",
       "      <td>Suhr</td>\n",
       "      <td>2</td>\n",
       "      <td>depic_spo</td>\n",
       "      <td>NaN</td>\n",
       "      <td>M</td>\n",
       "    </tr>\n",
       "    <tr>\n",
       "      <th>1691</th>\n",
       "      <td>4012</td>\n",
       "      <td>Suhr</td>\n",
       "      <td>2</td>\n",
       "      <td>depic_egl</td>\n",
       "      <td>NaN</td>\n",
       "      <td>M</td>\n",
       "    </tr>\n",
       "    <tr>\n",
       "      <th>1765</th>\n",
       "      <td>627</td>\n",
       "      <td>Worb</td>\n",
       "      <td>2</td>\n",
       "      <td>depc_pat_cul</td>\n",
       "      <td>NaN</td>\n",
       "      <td>N</td>\n",
       "    </tr>\n",
       "    <tr>\n",
       "      <th>1789</th>\n",
       "      <td>361</td>\n",
       "      <td>Zollikofen</td>\n",
       "      <td>2</td>\n",
       "      <td>depc_pat_cul</td>\n",
       "      <td>NaN</td>\n",
       "      <td>N</td>\n",
       "    </tr>\n",
       "    <tr>\n",
       "      <th>1851</th>\n",
       "      <td>3921</td>\n",
       "      <td>Arosa</td>\n",
       "      <td>1</td>\n",
       "      <td>depc_med</td>\n",
       "      <td>NaN</td>\n",
       "      <td>N</td>\n",
       "    </tr>\n",
       "    <tr>\n",
       "      <th>1857</th>\n",
       "      <td>3921</td>\n",
       "      <td>Arosa</td>\n",
       "      <td>1</td>\n",
       "      <td>depic_med</td>\n",
       "      <td>NaN</td>\n",
       "      <td>N</td>\n",
       "    </tr>\n",
       "  </tbody>\n",
       "</table>\n",
       "</div>"
      ],
      "text/plain": [
       "      GEONR                 GEONAME  CLASS_HAB       VARIABLE  VALUE STATUS\n",
       "1165   3271              Buchs (SG)          2   depc_pat_cul    NaN      N\n",
       "1477   2937  Neuhausen am Rheinfall          2   depc_pat_cul    NaN      N\n",
       "1549   5589                  Prilly          2   depc_pat_cul    NaN      N\n",
       "1680   4012                    Suhr          2         depc_t    NaN      M\n",
       "1681   4012                    Suhr          2   depc_pat_cul    NaN      M\n",
       "1682   4012                    Suhr          2      depc_cula    NaN      M\n",
       "1683   4012                    Suhr          2       depc_med    NaN      M\n",
       "1684   4012                    Suhr          2       depc_spo    NaN      M\n",
       "1685   4012                    Suhr          2       depc_egl    NaN      M\n",
       "1686   4012                    Suhr          2        depic_t    NaN      M\n",
       "1687   4012                    Suhr          2  depic_pat_cul    NaN      M\n",
       "1688   4012                    Suhr          2     depic_cula    NaN      M\n",
       "1689   4012                    Suhr          2      depic_med    NaN      M\n",
       "1690   4012                    Suhr          2      depic_spo    NaN      M\n",
       "1691   4012                    Suhr          2      depic_egl    NaN      M\n",
       "1765    627                    Worb          2   depc_pat_cul    NaN      N\n",
       "1789    361              Zollikofen          2   depc_pat_cul    NaN      N\n",
       "1851   3921                   Arosa          1       depc_med    NaN      N\n",
       "1857   3921                   Arosa          1      depic_med    NaN      N"
      ]
     },
     "execution_count": 11,
     "metadata": {},
     "output_type": "execute_result"
    }
   ],
   "source": [
    "data[data['VALUE'].isnull()]"
   ]
  },
  {
   "cell_type": "markdown",
   "metadata": {},
   "source": [
    "Supprimer toutes les lignes contenant des valeurs manquantes dans la colonne VALUE"
   ]
  },
  {
   "cell_type": "code",
   "execution_count": 12,
   "metadata": {},
   "outputs": [],
   "source": [
    "new_data = data.drop(data[data['VALUE'].isnull()].index)"
   ]
  },
  {
   "cell_type": "markdown",
   "metadata": {},
   "source": [
    "Compter le nombre de valeurs manquantes pour chaque colonne"
   ]
  },
  {
   "cell_type": "code",
   "execution_count": 13,
   "metadata": {},
   "outputs": [
    {
     "data": {
      "text/plain": [
       "GEONR        0\n",
       "GEONAME      0\n",
       "CLASS_HAB    0\n",
       "VARIABLE     0\n",
       "VALUE        0\n",
       "STATUS       0\n",
       "dtype: int64"
      ]
     },
     "execution_count": 13,
     "metadata": {},
     "output_type": "execute_result"
    }
   ],
   "source": [
    "new_data.isnull().sum()"
   ]
  },
  {
   "cell_type": "markdown",
   "metadata": {},
   "source": [
    "Afficher les valeurs uniques de la colonne status"
   ]
  },
  {
   "cell_type": "code",
   "execution_count": 14,
   "metadata": {},
   "outputs": [
    {
     "data": {
      "text/plain": [
       "array(['A'], dtype=object)"
      ]
     },
     "execution_count": 14,
     "metadata": {},
     "output_type": "execute_result"
    }
   ],
   "source": [
    "new_data.STATUS.unique()"
   ]
  },
  {
   "cell_type": "markdown",
   "metadata": {},
   "source": [
    "Suppression des colonnes Status et GEONR"
   ]
  },
  {
   "cell_type": "code",
   "execution_count": 15,
   "metadata": {},
   "outputs": [],
   "source": [
    "new_data = new_data.drop(['STATUS','GEONR', 'CLASS_HAB'], axis=1)"
   ]
  },
  {
   "cell_type": "markdown",
   "metadata": {},
   "source": [
    "Afficher les 5 premières lignes"
   ]
  },
  {
   "cell_type": "code",
   "execution_count": 16,
   "metadata": {},
   "outputs": [
    {
     "data": {
      "text/html": [
       "<div>\n",
       "<style scoped>\n",
       "    .dataframe tbody tr th:only-of-type {\n",
       "        vertical-align: middle;\n",
       "    }\n",
       "\n",
       "    .dataframe tbody tr th {\n",
       "        vertical-align: top;\n",
       "    }\n",
       "\n",
       "    .dataframe thead th {\n",
       "        text-align: right;\n",
       "    }\n",
       "</style>\n",
       "<table border=\"1\" class=\"dataframe\">\n",
       "  <thead>\n",
       "    <tr style=\"text-align: right;\">\n",
       "      <th></th>\n",
       "      <th>GEONAME</th>\n",
       "      <th>VARIABLE</th>\n",
       "      <th>VALUE</th>\n",
       "    </tr>\n",
       "  </thead>\n",
       "  <tbody>\n",
       "    <tr>\n",
       "      <th>0</th>\n",
       "      <td>Basel</td>\n",
       "      <td>depc_t</td>\n",
       "      <td>319492.0</td>\n",
       "    </tr>\n",
       "    <tr>\n",
       "      <th>1</th>\n",
       "      <td>Basel</td>\n",
       "      <td>depc_pat_cul</td>\n",
       "      <td>89279.0</td>\n",
       "    </tr>\n",
       "    <tr>\n",
       "      <th>2</th>\n",
       "      <td>Basel</td>\n",
       "      <td>depc_cula</td>\n",
       "      <td>96742.0</td>\n",
       "    </tr>\n",
       "    <tr>\n",
       "      <th>3</th>\n",
       "      <td>Basel</td>\n",
       "      <td>depc_med</td>\n",
       "      <td>0.0</td>\n",
       "    </tr>\n",
       "    <tr>\n",
       "      <th>4</th>\n",
       "      <td>Basel</td>\n",
       "      <td>depc_spo</td>\n",
       "      <td>133339.0</td>\n",
       "    </tr>\n",
       "  </tbody>\n",
       "</table>\n",
       "</div>"
      ],
      "text/plain": [
       "  GEONAME      VARIABLE     VALUE\n",
       "0   Basel        depc_t  319492.0\n",
       "1   Basel  depc_pat_cul   89279.0\n",
       "2   Basel     depc_cula   96742.0\n",
       "3   Basel      depc_med       0.0\n",
       "4   Basel      depc_spo  133339.0"
      ]
     },
     "execution_count": 16,
     "metadata": {},
     "output_type": "execute_result"
    }
   ],
   "source": [
    "new_data.head()"
   ]
  },
  {
   "cell_type": "markdown",
   "metadata": {},
   "source": [
    "Sélectionner toutes les lignes relatives à la dépense totale et supprimer la colonne VARIABLE"
   ]
  },
  {
   "cell_type": "code",
   "execution_count": 17,
   "metadata": {},
   "outputs": [
    {
     "data": {
      "text/html": [
       "<div>\n",
       "<style scoped>\n",
       "    .dataframe tbody tr th:only-of-type {\n",
       "        vertical-align: middle;\n",
       "    }\n",
       "\n",
       "    .dataframe tbody tr th {\n",
       "        vertical-align: top;\n",
       "    }\n",
       "\n",
       "    .dataframe thead th {\n",
       "        text-align: right;\n",
       "    }\n",
       "</style>\n",
       "<table border=\"1\" class=\"dataframe\">\n",
       "  <thead>\n",
       "    <tr style=\"text-align: right;\">\n",
       "      <th></th>\n",
       "      <th>GEONAME</th>\n",
       "      <th>VALUE</th>\n",
       "    </tr>\n",
       "  </thead>\n",
       "  <tbody>\n",
       "    <tr>\n",
       "      <th>0</th>\n",
       "      <td>Basel</td>\n",
       "      <td>319492.0</td>\n",
       "    </tr>\n",
       "    <tr>\n",
       "      <th>12</th>\n",
       "      <td>Bern</td>\n",
       "      <td>90344.0</td>\n",
       "    </tr>\n",
       "    <tr>\n",
       "      <th>24</th>\n",
       "      <td>Genève</td>\n",
       "      <td>425099.0</td>\n",
       "    </tr>\n",
       "    <tr>\n",
       "      <th>36</th>\n",
       "      <td>Lausanne</td>\n",
       "      <td>192444.0</td>\n",
       "    </tr>\n",
       "    <tr>\n",
       "      <th>48</th>\n",
       "      <td>Winterthur</td>\n",
       "      <td>69627.0</td>\n",
       "    </tr>\n",
       "  </tbody>\n",
       "</table>\n",
       "</div>"
      ],
      "text/plain": [
       "       GEONAME     VALUE\n",
       "0        Basel  319492.0\n",
       "12        Bern   90344.0\n",
       "24      Genève  425099.0\n",
       "36    Lausanne  192444.0\n",
       "48  Winterthur   69627.0"
      ]
     },
     "execution_count": 17,
     "metadata": {},
     "output_type": "execute_result"
    }
   ],
   "source": [
    "new_data_selected = new_data[new_data['VARIABLE']=='depc_t']\n",
    "new_data_selected = new_data_selected.drop(['VARIABLE'], axis=1)\n",
    "new_data_selected.head()"
   ]
  },
  {
   "cell_type": "markdown",
   "metadata": {},
   "source": [
    "Afficher le nombre de duplications"
   ]
  },
  {
   "cell_type": "code",
   "execution_count": 18,
   "metadata": {},
   "outputs": [
    {
     "data": {
      "text/plain": [
       "0"
      ]
     },
     "execution_count": 18,
     "metadata": {},
     "output_type": "execute_result"
    }
   ],
   "source": [
    "new_data_selected.duplicated().sum()"
   ]
  },
  {
   "cell_type": "markdown",
   "metadata": {},
   "source": [
    "Afficher le nombre de duplications dans la colonne GEONAME"
   ]
  },
  {
   "cell_type": "code",
   "execution_count": 19,
   "metadata": {},
   "outputs": [
    {
     "data": {
      "text/plain": [
       "0"
      ]
     },
     "execution_count": 19,
     "metadata": {},
     "output_type": "execute_result"
    }
   ],
   "source": [
    "new_data_selected['GEONAME'].duplicated().sum()"
   ]
  },
  {
   "cell_type": "markdown",
   "metadata": {},
   "source": [
    "Afficher les valeurs uniques de la colonne GEONAME"
   ]
  },
  {
   "cell_type": "code",
   "execution_count": 20,
   "metadata": {},
   "outputs": [
    {
     "data": {
      "text/plain": [
       "array(['Basel', 'Bern', 'Genève', 'Lausanne', 'Winterthur', 'Zürich',\n",
       "       'Biel/Bienne', 'Lugano', 'Luzern', 'St. Gallen', 'Aarau',\n",
       "       'Allschwil', 'Baar', 'Bellinzona', 'Bülach', 'Bulle',\n",
       "       'Carouge (GE)', 'Chur', 'Dietikon', 'Dübendorf', 'Emmen',\n",
       "       'Frauenfeld', 'Fribourg', 'Horgen', 'Kloten', 'Köniz',\n",
       "       'Kreuzlingen', 'Kriens', 'La Chaux-de-Fonds', 'Lancy', 'Meyrin',\n",
       "       'Montreux', 'Neuchâtel', 'Nyon', 'Opfikon', 'Rapperswil-Jona',\n",
       "       'Renens (VD)', 'Riehen', 'Schaffhausen', 'Sion', 'Thun', 'Uster',\n",
       "       'Vernier', 'Wädenswil', 'Wettingen', 'Wetzikon (ZH)', 'Wil (SG)',\n",
       "       'Yverdon-les-Bains', 'Zug', 'Adliswil', 'Baden', 'Binningen',\n",
       "       'Burgdorf', 'Cham', 'Einsiedeln', 'Freienbach', 'Glarus Nord',\n",
       "       'Gossau (SG)', 'Grenchen', 'Herisau', 'Illnau-Effretikon',\n",
       "       'Langenthal', 'Locarno', 'Lyss', 'Martigny', 'Monthey', 'Morges',\n",
       "       'Muttenz', 'Olten', 'Onex', 'Ostermundigen', 'Pratteln', 'Pully',\n",
       "       'Regensdorf', 'Reinach (BL)', 'Schlieren', 'Schwyz', 'Sierre',\n",
       "       'Solothurn', 'Steffisburg', 'Thalwil', 'Vevey', 'Volketswil',\n",
       "       'Wallisellen', 'Wohlen (AG)', 'Aesch (BL)', 'Affoltern am Albis',\n",
       "       'Aigle', 'Altstätten', 'Amriswil', 'Arbon', 'Arth', 'Bassersdorf',\n",
       "       'Belp', 'Birsfelden', 'Brig-Glis', 'Brugg', 'Buchs (SG)',\n",
       "       'Chêne-Bougeries', 'Davos', 'Delémont', 'Ebikon', 'Ecublens (VD)',\n",
       "       'Flawil', 'Gland', 'Glarus', 'Hinwil', 'Horw', 'Ittigen',\n",
       "       'Küsnacht (ZH)', 'La Tour-de-Peilz', 'Le Grand-Saconnex',\n",
       "       'Le Locle', 'Lenzburg', 'Liestal', 'Männedorf', 'Meilen',\n",
       "       'Mendrisio', 'Möhlin', 'Münchenbuchsee', 'Münchenstein',\n",
       "       'Münsingen', 'Muri bei Bern', 'Neuhausen am Rheinfall',\n",
       "       'Oberwil (BL)', 'Oftringen', 'Payerne', 'Pfäffikon',\n",
       "       'Plan-les-Ouates', 'Prilly', 'Rheinfelden', 'Richterswil', 'Risch',\n",
       "       'Romanshorn', 'Rüti (ZH)', 'Sarnen', 'Spiez', 'Spreitenbach',\n",
       "       'Stäfa', 'Steinhausen', 'Sursee', 'Thônex', 'Uzwil', 'Versoix',\n",
       "       'Villars-sur-Glâne', 'Weinfelden', 'Worb', 'Zofingen',\n",
       "       'Zollikofen', 'Zollikon', 'Altdorf (UR)', 'Appenzell', 'Arlesheim',\n",
       "       'Arosa', 'Bussigny', 'Chiasso', 'Crissier', 'Interlaken',\n",
       "       'La Neuveville', 'Moutier', 'Murten', 'Peseux', 'Porrentruy',\n",
       "       'Rorschach', 'St. Moritz', 'Stans', 'Urdorf', 'Visp', 'Zermatt',\n",
       "       'Zuchwil'], dtype=object)"
      ]
     },
     "execution_count": 20,
     "metadata": {},
     "output_type": "execute_result"
    }
   ],
   "source": [
    "new_data_selected['GEONAME'].unique()"
   ]
  },
  {
   "cell_type": "markdown",
   "metadata": {},
   "source": [
    "Importer le fichier avec les communes romandes et en renommant la colonne en nom au lieu de 0"
   ]
  },
  {
   "cell_type": "code",
   "execution_count": 21,
   "metadata": {},
   "outputs": [
    {
     "data": {
      "text/html": [
       "<div>\n",
       "<style scoped>\n",
       "    .dataframe tbody tr th:only-of-type {\n",
       "        vertical-align: middle;\n",
       "    }\n",
       "\n",
       "    .dataframe tbody tr th {\n",
       "        vertical-align: top;\n",
       "    }\n",
       "\n",
       "    .dataframe thead th {\n",
       "        text-align: right;\n",
       "    }\n",
       "</style>\n",
       "<table border=\"1\" class=\"dataframe\">\n",
       "  <thead>\n",
       "    <tr style=\"text-align: right;\">\n",
       "      <th></th>\n",
       "      <th>nom</th>\n",
       "    </tr>\n",
       "  </thead>\n",
       "  <tbody>\n",
       "    <tr>\n",
       "      <th>0</th>\n",
       "      <td>Aclens</td>\n",
       "    </tr>\n",
       "    <tr>\n",
       "      <th>1</th>\n",
       "      <td>Agarn</td>\n",
       "    </tr>\n",
       "    <tr>\n",
       "      <th>2</th>\n",
       "      <td>Agiez</td>\n",
       "    </tr>\n",
       "    <tr>\n",
       "      <th>3</th>\n",
       "      <td>Aigle</td>\n",
       "    </tr>\n",
       "    <tr>\n",
       "      <th>4</th>\n",
       "      <td>Aire-la-Ville</td>\n",
       "    </tr>\n",
       "  </tbody>\n",
       "</table>\n",
       "</div>"
      ],
      "text/plain": [
       "             nom\n",
       "0         Aclens\n",
       "1          Agarn\n",
       "2          Agiez\n",
       "3          Aigle\n",
       "4  Aire-la-Ville"
      ]
     },
     "execution_count": 21,
     "metadata": {},
     "output_type": "execute_result"
    }
   ],
   "source": [
    "data_romande = pd.read_csv('communes_romandes_nettoyes.csv',sep=';')\n",
    "data_romande = data_romande.drop(['canton'],axis=1)\n",
    "data_romande.head()"
   ]
  },
  {
   "cell_type": "markdown",
   "metadata": {},
   "source": [
    "Sélection des dépenses communales en ne récupérant que celles des communes romandes"
   ]
  },
  {
   "cell_type": "code",
   "execution_count": 22,
   "metadata": {},
   "outputs": [],
   "source": [
    "result = []\n",
    "for i in new_data_selected.iterrows():\n",
    "    for j in data_romande.iterrows():\n",
    "        if i[1]['GEONAME'] == j[1]['nom']:\n",
    "            geoname = i[1]['GEONAME']\n",
    "            value = i[1]['VALUE']\n",
    "            result.append([geoname, value])"
   ]
  },
  {
   "cell_type": "markdown",
   "metadata": {},
   "source": [
    "Transformer la liste obtenue ci-dessus en un dataframe"
   ]
  },
  {
   "cell_type": "code",
   "execution_count": 23,
   "metadata": {},
   "outputs": [],
   "source": [
    "result_df = pd.DataFrame(result, columns=['nom','depense_total'])"
   ]
  },
  {
   "cell_type": "markdown",
   "metadata": {},
   "source": [
    "Afficher les 5 premières lignes"
   ]
  },
  {
   "cell_type": "code",
   "execution_count": 24,
   "metadata": {},
   "outputs": [
    {
     "data": {
      "text/html": [
       "<div>\n",
       "<style scoped>\n",
       "    .dataframe tbody tr th:only-of-type {\n",
       "        vertical-align: middle;\n",
       "    }\n",
       "\n",
       "    .dataframe tbody tr th {\n",
       "        vertical-align: top;\n",
       "    }\n",
       "\n",
       "    .dataframe thead th {\n",
       "        text-align: right;\n",
       "    }\n",
       "</style>\n",
       "<table border=\"1\" class=\"dataframe\">\n",
       "  <thead>\n",
       "    <tr style=\"text-align: right;\">\n",
       "      <th></th>\n",
       "      <th>nom</th>\n",
       "      <th>depense_total</th>\n",
       "    </tr>\n",
       "  </thead>\n",
       "  <tbody>\n",
       "    <tr>\n",
       "      <th>0</th>\n",
       "      <td>Genève</td>\n",
       "      <td>425099.0</td>\n",
       "    </tr>\n",
       "    <tr>\n",
       "      <th>1</th>\n",
       "      <td>Lausanne</td>\n",
       "      <td>192444.0</td>\n",
       "    </tr>\n",
       "    <tr>\n",
       "      <th>2</th>\n",
       "      <td>Bulle</td>\n",
       "      <td>9869.0</td>\n",
       "    </tr>\n",
       "    <tr>\n",
       "      <th>3</th>\n",
       "      <td>Carouge (GE)</td>\n",
       "      <td>28831.0</td>\n",
       "    </tr>\n",
       "    <tr>\n",
       "      <th>4</th>\n",
       "      <td>Fribourg</td>\n",
       "      <td>13981.0</td>\n",
       "    </tr>\n",
       "  </tbody>\n",
       "</table>\n",
       "</div>"
      ],
      "text/plain": [
       "            nom  depense_total\n",
       "0        Genève       425099.0\n",
       "1      Lausanne       192444.0\n",
       "2         Bulle         9869.0\n",
       "3  Carouge (GE)        28831.0\n",
       "4      Fribourg        13981.0"
      ]
     },
     "execution_count": 24,
     "metadata": {},
     "output_type": "execute_result"
    }
   ],
   "source": [
    "result_df.head()"
   ]
  },
  {
   "cell_type": "markdown",
   "metadata": {},
   "source": [
    "Transformer en fichier CSV le résultat final"
   ]
  },
  {
   "cell_type": "code",
   "execution_count": 25,
   "metadata": {},
   "outputs": [],
   "source": [
    "new_data.to_csv('depenses_communales_nettoyes.csv',sep=';',index=False,encoding='UTF-8')"
   ]
  }
 ],
 "metadata": {
  "kernelspec": {
   "display_name": "Python 3",
   "language": "python",
   "name": "python3"
  },
  "language_info": {
   "codemirror_mode": {
    "name": "ipython",
    "version": 3
   },
   "file_extension": ".py",
   "mimetype": "text/x-python",
   "name": "python",
   "nbconvert_exporter": "python",
   "pygments_lexer": "ipython3",
   "version": "3.8.5"
  },
  "toc": {
   "base_numbering": 1,
   "nav_menu": {},
   "number_sections": false,
   "sideBar": true,
   "skip_h1_title": false,
   "title_cell": "Table des matières",
   "title_sidebar": "Contents",
   "toc_cell": false,
   "toc_position": {},
   "toc_section_display": true,
   "toc_window_display": false
  }
 },
 "nbformat": 4,
 "nbformat_minor": 4
}
